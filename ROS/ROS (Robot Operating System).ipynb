{
 "cells": [
  {
   "cell_type": "markdown",
   "id": "68fdc15a",
   "metadata": {},
   "source": [
    "ROS (Robot Operating System)"
   ]
  },
  {
   "cell_type": "markdown",
   "id": "45e86ee1",
   "metadata": {},
   "source": [
    "Create a Workspace"
   ]
  },
  {
   "cell_type": "raw",
   "id": "56ec7a26",
   "metadata": {},
   "source": [
    "mkdir catkin_ws/src\n",
    "cd catkin_ws\n",
    "catkin_make"
   ]
  },
  {
   "cell_type": "markdown",
   "id": "3430780f",
   "metadata": {},
   "source": [
    "Add the source code to bashrc"
   ]
  },
  {
   "cell_type": "raw",
   "id": "cc0ef1a1",
   "metadata": {},
   "source": [
    "gedit ~/.bashrc\n",
    "# Add tihs code to the opened window and change os name with yours\n",
    "source home/youre_os_name/catkin_ws/devel/satup.bash"
   ]
  },
  {
   "cell_type": "markdown",
   "id": "2f782f4b",
   "metadata": {},
   "source": [
    "Create a ROS package"
   ]
  },
  {
   "cell_type": "raw",
   "id": "06ce0be4",
   "metadata": {},
   "source": [
    "cd catkin_ws/src\n",
    "catkin_create_pkg first_package std_msgs rospy roscpp #first_package is packge name\n",
    "#and std_msgs rospy roscpp are dependencies\n",
    "cd catkin_ws\n",
    "catkin_make"
   ]
  },
  {
   "cell_type": "markdown",
   "id": "acb7dd63",
   "metadata": {},
   "source": [
    "rospack depends1"
   ]
  },
  {
   "cell_type": "raw",
   "id": "a1ecab92",
   "metadata": {},
   "source": [
    "rospack depends1 first_package # this code lists maine dependencies "
   ]
  },
  {
   "cell_type": "markdown",
   "id": "0ac65377",
   "metadata": {},
   "source": [
    "rospack depends"
   ]
  },
  {
   "cell_type": "raw",
   "id": "6d91bd11",
   "metadata": {},
   "source": [
    "rospack depends first_package # this code lists maine dependencies in detail"
   ]
  },
  {
   "cell_type": "markdown",
   "id": "64ca6b70",
   "metadata": {},
   "source": [
    "Quick command setup with alias on bashrc"
   ]
  },
  {
   "cell_type": "raw",
   "id": "ed7c3e9c",
   "metadata": {},
   "source": [
    "gedit~./bashrc\n",
    "#add and save these codes to opened window's alias part \n",
    "alias cw = 'cd~/catkin_ws'\n",
    "alias cs = 'cd~/catkin_ws/src'\n",
    "alias cm = 'cd~/catkin_ws && catkin_make'"
   ]
  },
  {
   "cell_type": "markdown",
   "id": "996b3d85",
   "metadata": {},
   "source": [
    "rospack list"
   ]
  },
  {
   "cell_type": "raw",
   "id": "5fb609b7",
   "metadata": {},
   "source": [
    "rospack list # this code lists all packages"
   ]
  },
  {
   "cell_type": "markdown",
   "id": "97355b6c",
   "metadata": {},
   "source": [
    "rospack find"
   ]
  },
  {
   "cell_type": "raw",
   "id": "1df3afdb",
   "metadata": {},
   "source": [
    "rospack find turtlesim # this code finds\n",
    "#where is turtlesim package"
   ]
  },
  {
   "cell_type": "markdown",
   "id": "1d737a63",
   "metadata": {},
   "source": [
    "roscd"
   ]
  },
  {
   "cell_type": "raw",
   "id": "ec3504b9",
   "metadata": {},
   "source": [
    "roscd turtlesim #this code changes located directory \n",
    "# with turtlesim's directory"
   ]
  },
  {
   "cell_type": "markdown",
   "id": "37088105",
   "metadata": {},
   "source": [
    "rosls"
   ]
  },
  {
   "cell_type": "raw",
   "id": "07f89214",
   "metadata": {},
   "source": [
    "rosls turtlesim #this code lists all files in turtlesim package"
   ]
  },
  {
   "cell_type": "markdown",
   "id": "73763f7a",
   "metadata": {},
   "source": [
    "rosed"
   ]
  },
  {
   "cell_type": "raw",
   "id": "1885b9ef",
   "metadata": {},
   "source": [
    "rosed turtlesim package.xml #this code will open package.xml file\n",
    "#for customize"
   ]
  },
  {
   "cell_type": "markdown",
   "id": "349cf819",
   "metadata": {},
   "source": [
    "roscore"
   ]
  },
  {
   "cell_type": "raw",
   "id": "6348937f",
   "metadata": {},
   "source": [
    "roscore #tihs code will run Ros Master"
   ]
  },
  {
   "cell_type": "markdown",
   "id": "06718161",
   "metadata": {},
   "source": [
    "ROS Node\n",
    "rosrun\n",
    "rosnode"
   ]
  },
  {
   "cell_type": "raw",
   "id": "87b54b8f",
   "metadata": {},
   "source": [
    "rosrun turtlesim turtlesim_node #this code starts the turtlesim\n",
    "rosnode #this code shows us what can we do with rosnode\n",
    "#output\n",
    "Commands:\n",
    "rosnode ping-test connectivity to node\n",
    "rosnode list-list active nodes\n",
    "rosnode info-print information about node\n",
    "rosnode machine-list nodes running on a particular machine or list machines\n",
    "rosnode kill-kill a running node\n",
    "rosnode cleanup-purge registration information of unreachable nodes"
   ]
  },
  {
   "cell_type": "markdown",
   "id": "529761bf",
   "metadata": {},
   "source": [
    "Publisher Subscriber and Topics"
   ]
  },
  {
   "cell_type": "raw",
   "id": "c4db9b7f",
   "metadata": {},
   "source": [
    "rostopic #this code shows us what can we do with rosnode\n",
    "#output\n",
    "Commands:\n",
    "rostopic bw-display bandwidth used by topic\n",
    "rostopic delay-display delay of topic from timestamp in header\n",
    "rostopic echo-print messages to screen\n",
    "rostopic find-find topics by type\n",
    "rostopic hz-display publishing rate of topic    \n",
    "rostopic info-print information about active topic\n",
    "rostopic list-list active topics\n",
    "rostopic pub-publish data to topic\n",
    "rostopic type-print topic or field type\n"
   ]
  },
  {
   "cell_type": "markdown",
   "id": "4f1ae1c9",
   "metadata": {},
   "source": [
    "How to use turtlesim"
   ]
  },
  {
   "cell_type": "raw",
   "id": "62f4beea",
   "metadata": {},
   "source": [
    "rosrun turtlesim turtlesim_node #this code open turtlesim window\n",
    "rosrun turtlesim turtle_telekop_key #this code allows turtle #control with arrow keys\n",
    "rostopic echo /turtle1/cmd_vel #this code shows us turtle's #linear and anguar x,y,z values"
   ]
  },
  {
   "cell_type": "markdown",
   "id": "8a32d8e9",
   "metadata": {},
   "source": [
    "rosservice"
   ]
  },
  {
   "cell_type": "raw",
   "id": "a8d0066d",
   "metadata": {},
   "source": [
    "rosservice #this code shows us what can we do with rosservice\n",
    "#output\n",
    "Commands:\n",
    "rosservice args-print service arguments\n",
    "rosservice call-call the service with the provided args\n",
    "rosservice find-find services by service type\n",
    "rosservice info-print information about service\n",
    "rosservice list-list active services\n",
    "rosservice type-print service type\n",
    "rosservice uri-print service ROSRPC uri"
   ]
  },
  {
   "cell_type": "markdown",
   "id": "901c8f00",
   "metadata": {},
   "source": [
    "rosparam"
   ]
  },
  {
   "cell_type": "raw",
   "id": "5e7f083a",
   "metadata": {},
   "source": [
    "rosparam #this code shows us what can we do with rosparam\n",
    "#output\n",
    "Commands:\n",
    "rosparam set-set parameter\n",
    "rosparam get-get parameter\n",
    "rosparam load-load parameters from file\n",
    "rosparam dump-dump parameters to file\n",
    "rosparam delete-delete parameter\n",
    "rosparam list-list parameter names"
   ]
  },
  {
   "cell_type": "markdown",
   "id": "11054e38",
   "metadata": {},
   "source": [
    "First Publisher Subscriber example"
   ]
  },
  {
   "cell_type": "raw",
   "id": "98cc571f",
   "metadata": {},
   "source": [
    "rostopic pub /firstpub std_msgs/String \"data:'first data'\"\n",
    "#write this code a terminal and start publish \n",
    "rostopic echo /firstpub\n",
    "#and wrihte this code other a terminal and read the massage"
   ]
  },
  {
   "cell_type": "markdown",
   "id": "fb910467",
   "metadata": {},
   "source": [
    "rosmsg"
   ]
  },
  {
   "cell_type": "raw",
   "id": "b2f2f3d3",
   "metadata": {},
   "source": [
    "rosmsg #this code shows us what can we do with rosmsg\n",
    "#output\n",
    "Commands:\n",
    "rosmsg show-Show message description\n",
    "rosmsg info-Alias for rosmsg show\n",
    "rosmsg list-List all messages\n",
    "rosmsg md5-Display message md5sum\n",
    "rosmsg package-List messages in a package\n",
    "rosmsg packages-List packages that contain messages"
   ]
  },
  {
   "cell_type": "raw",
   "id": "59e0639d",
   "metadata": {},
   "source": [
    "rossrv #this code shows us what can we do with rossrv\n",
    "#output\n",
    "Commands:\n",
    "rossrv show-Show service description\n",
    "rossrv info-Alias for rossrv show\n",
    "rossrv list-List all services\n",
    "rossrv md5-Display service md5sum\n",
    "rossrv package-List services in a package\n",
    "rossrv packages-List packages that contain services"
   ]
  },
  {
   "cell_type": "markdown",
   "id": "c3102ac4",
   "metadata": {},
   "source": [
    "rosbag"
   ]
  },
  {
   "cell_type": "raw",
   "id": "2141500d",
   "metadata": {},
   "source": [
    "rosbag record turtle1/cmd_cel #this code records turtlesim's robot moiton\n",
    "rosbag play 2021-07-13-10-35-49.bag # this code plays recorded #.bag file"
   ]
  },
  {
   "cell_type": "raw",
   "id": "93dc3330",
   "metadata": {},
   "source": [
    "rpt_graph"
   ]
  },
  {
   "cell_type": "raw",
   "id": "7235ba5d",
   "metadata": {},
   "source": [
    "rqt_graph #this code shows us communiacation of nodes as schematic\n",
    "rosrun turtlesim turtlesim_node\n",
    "rosrun turtlesim turtle_teleop_key\n",
    "rqt_graph"
   ]
  },
  {
   "cell_type": "code",
   "execution_count": null,
   "id": "ccf9e316",
   "metadata": {},
   "outputs": [],
   "source": []
  }
 ],
 "metadata": {
  "kernelspec": {
   "display_name": "Python 3",
   "language": "python",
   "name": "python3"
  },
  "language_info": {
   "codemirror_mode": {
    "name": "ipython",
    "version": 3
   },
   "file_extension": ".py",
   "mimetype": "text/x-python",
   "name": "python",
   "nbconvert_exporter": "python",
   "pygments_lexer": "ipython3",
   "version": "3.6.9"
  }
 },
 "nbformat": 4,
 "nbformat_minor": 5
}
